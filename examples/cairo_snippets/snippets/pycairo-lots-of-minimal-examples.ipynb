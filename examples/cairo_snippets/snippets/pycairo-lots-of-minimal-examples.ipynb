{
 "cells": [
  {
   "cell_type": "code",
   "execution_count": 70,
   "metadata": {},
   "outputs": [],
   "source": [
    "import cairocffi as cairo\n",
    "from IPython.display import Image\n",
    "from math import pi"
   ]
  },
  {
   "cell_type": "code",
   "execution_count": 71,
   "metadata": {},
   "outputs": [
    {
     "data": {
      "image/png": "[encoded data removed]",
      "text/plain": [
       "<IPython.core.display.Image object>"
      ]
     },
     "execution_count": 71,
     "metadata": {},
     "output_type": "execute_result"
    }
   ],
   "source": [
    "surface = cairo.ImageSurface(cairo.FORMAT_ARGB32, width, height)\n",
    "\n",
    "cr = cairo.Context(surface)\n",
    "cr.set_source_rgb(0, 0, 1)\n",
    "cr.rotate(0.1)\n",
    "cr.rectangle(30, 30, 40, 40)\n",
    "cr.fill()\n",
    "surface.write_to_png('example1.png')\n",
    "Image('example1.png')"
   ]
  },
  {
   "cell_type": "code",
   "execution_count": 72,
   "metadata": {},
   "outputs": [
    {
     "data": {
      "image/png": "[encoded data removed]",
      "text/plain": [
       "<IPython.core.display.Image object>"
      ]
     },
     "metadata": {
      "image/png": {
       "width": 200
      }
     },
     "output_type": "display_data"
    }
   ],
   "source": [
    "from math import pi\n",
    "def drawDot(cr, width, height):\n",
    "    cr.scale(width, height) # eg1\n",
    "    cr.stroke()\n",
    "    cr.set_line_cap(cairo.LINE_CAP_ROUND)\n",
    "    cr.set_line_width(0.12)\n",
    "    cr.move_to(0.5, 0.5)\n",
    "    cr.line_to(0.5, 0.5)\n",
    "    \n",
    "    cr.stroke() #eg1\n",
    "    xc=.4\n",
    "    yc=.4\n",
    "    cr.arc(xc, yc, 0.05, 0, 2 * pi)\n",
    "    cr.fill()\n",
    "    \n",
    "surface = cairo.ImageSurface(cairo.FORMAT_ARGB32, 200, 200)\n",
    "ctx = cairo.Context(surface)\n",
    "drawDot(ctx,200,200)\n",
    "surface.write_to_png(\"example.png\") \n",
    "display(Image('example.png', width=200))"
   ]
  },
  {
   "cell_type": "code",
   "execution_count": 74,
   "metadata": {},
   "outputs": [
    {
     "data": {
      "image/png": "[encoded data removed]",
      "text/plain": [
       "<IPython.core.display.Image object>"
      ]
     },
     "metadata": {
      "image/png": {
       "width": 200
      }
     },
     "output_type": "display_data"
    }
   ],
   "source": [
    "def path_ellipse(cr, x, y, width, height, angle=0):\n",
    "    \"\"\"\n",
    "    x      - center x\n",
    "    y      - center y\n",
    "    width  - width of ellipse  (in x direction when angle=0)\n",
    "    height - height of ellipse (in y direction when angle=0)\n",
    "    angle  - angle in radians to rotate, clockwise\n",
    "    \"\"\"\n",
    "    cr.save()\n",
    "    cr.translate(x, y)\n",
    "    cr.rotate(angle)\n",
    "    cr.scale(width / 2.0, height / 2.0)\n",
    "    cr.arc(0.0, 0.0, 1.0, 0.0, 2.0 * pi)\n",
    "    cr.restore()\n",
    "\n",
    "\n",
    "def draw(cr, width, height):\n",
    "    cr.scale(width, height)\n",
    "    cr.set_line_width(0.04)\n",
    "\n",
    "    path_ellipse(cr, 0.5, 0.5, 1.0, 0.3, pi / 4.0)\n",
    "\n",
    "    # fill\n",
    "    cr.set_source_rgba(1, 0, 0, 1)\n",
    "    cr.fill_preserve()\n",
    "\n",
    "    # stroke\n",
    "    # reset identity matrix so line_width is a constant\n",
    "    # width in device-space, not user-space\n",
    "    cr.save()\n",
    "    cr.identity_matrix()\n",
    "    cr.set_source_rgba(0, 0, 0, 1)\n",
    "    cr.set_line_width(3)\n",
    "    cr.stroke()\n",
    "    cr.restore()\n",
    "\n",
    "\n",
    "surface = cairo.ImageSurface(cairo.FORMAT_ARGB32, 200, 200)\n",
    "ctx = cairo.Context(surface)\n",
    "draw(ctx,200,200)\n",
    "surface.write_to_png(\"example.png\")  # Output to PNG\n",
    "display(Image('example.png', width=200))"
   ]
  },
  {
   "cell_type": "code",
   "execution_count": 78,
   "metadata": {},
   "outputs": [
    {
     "data": {
      "image/png": "[encoded data removed]",
      "text/plain": [
       "<IPython.core.display.Image object>"
      ]
     },
     "metadata": {
      "image/png": {
       "width": 200
      }
     },
     "output_type": "display_data"
    }
   ],
   "source": [
    "def draw(cr, width, height):\n",
    "    cr.scale(width, height)\n",
    "    cr.set_line_width(0.04)\n",
    "\n",
    "    xc = 0.5\n",
    "    yc = 0.5\n",
    "    radius = 0.4\n",
    "    angle1 = 45.0 * (pi / 180.0)  # angles are specified\n",
    "    angle2 = 180.0 * (pi / 180.0)  # in radians\n",
    "\n",
    "    cr.arc(xc, yc, radius, angle1, angle2)\n",
    "    cr.stroke()\n",
    "\n",
    "    # draw helping lines\n",
    "    cr.set_source_rgba(1, 0.2, 0.2, 0.6)\n",
    "    cr.arc(xc, yc, 0.05, 0, 2 * pi)\n",
    "    cr.fill()\n",
    "    cr.set_line_width(0.03)\n",
    "    cr.arc(xc, yc, radius, angle1, angle1)\n",
    "    cr.line_to(xc, yc)\n",
    "    cr.arc(xc, yc, radius, angle2, angle2)\n",
    "    cr.line_to(xc, yc)\n",
    "    cr.stroke()\n",
    "    \n",
    "surface = cairo.ImageSurface(cairo.FORMAT_ARGB32, 200, 200)\n",
    "ctx = cairo.Context(surface)\n",
    "draw(ctx,200,200)\n",
    "surface.write_to_png(\"example.png\")  # Output to PNG\n",
    "display(Image('example.png', width=200))"
   ]
  },
  {
   "cell_type": "code",
   "execution_count": 75,
   "metadata": {},
   "outputs": [
    {
     "data": {
      "image/png": "[encoded data removed]",
      "text/plain": [
       "<IPython.core.display.Image object>"
      ]
     },
     "metadata": {
      "image/png": {
       "width": 200
      }
     },
     "output_type": "display_data"
    }
   ],
   "source": [
    "def draw(cr, width, height):\n",
    "    cr.scale(width, height)\n",
    "    cr.set_line_width(0.04)\n",
    "\n",
    "    xc = 0.5\n",
    "    yc = 0.5\n",
    "    radius = 0.4\n",
    "    angle1 = 45.0 * (pi / 180.0)  # angles are specified\n",
    "    angle2 = 180.0 * (pi / 180.0)  # in radians\n",
    "\n",
    "    cr.arc_negative(xc, yc, radius, angle1, angle2)\n",
    "    cr.stroke()\n",
    "\n",
    "    # draw helping lines\n",
    "    cr.set_source_rgba(1, 0.2, 0.2, 0.6)\n",
    "    cr.arc(xc, yc, 0.05, 0, 2 * pi)\n",
    "    cr.fill()\n",
    "    cr.set_line_width(0.03)\n",
    "    cr.arc(xc, yc, radius, angle1, angle1)\n",
    "    cr.line_to(xc, yc)\n",
    "    cr.arc(xc, yc, radius, angle2, angle2)\n",
    "    cr.line_to(xc, yc)\n",
    "    cr.stroke()\n",
    "    \n",
    "surface = cairo.ImageSurface(cairo.FORMAT_ARGB32, 200, 200)\n",
    "ctx = cairo.Context(surface)\n",
    "draw(ctx,200,200)\n",
    "surface.write_to_png(\"example.png\")  # Output to PNG\n",
    "display(Image('example.png', width=200))"
   ]
  },
  {
   "cell_type": "code",
   "execution_count": 79,
   "metadata": {},
   "outputs": [],
   "source": [
    "def Out():\n",
    "    surface = cairo.ImageSurface(cairo.FORMAT_ARGB32, 200, 200)\n",
    "    ctx = cairo.Context(surface)\n",
    "    draw(ctx,200,200)\n",
    "    surface.write_to_png(\"example.png\")  # Output to PNG\n",
    "    display(Image('example.png', width=200))"
   ]
  },
  {
   "cell_type": "code",
   "execution_count": 80,
   "metadata": {},
   "outputs": [
    {
     "data": {
      "image/png": "[encoded data removed]",
      "text/plain": [
       "<IPython.core.display.Image object>"
      ]
     },
     "metadata": {
      "image/png": {
       "width": 200
      }
     },
     "output_type": "display_data"
    }
   ],
   "source": [
    "def draw(cr, width, height):\n",
    "    cr.scale(width, height)\n",
    "    cr.set_line_width(0.04)\n",
    "\n",
    "    xc = 0.5\n",
    "    yc = 0.5\n",
    "    radius = 0.4\n",
    "    angle1 = 45.0 * (pi / 180.0)  # angles are specified\n",
    "    angle2 = 180.0 * (pi / 180.0)  # in radians\n",
    "\n",
    "    cr.arc_negative(xc, yc, radius, angle1, angle2)\n",
    "    cr.stroke()\n",
    "\n",
    "    # draw helping lines\n",
    "    cr.set_source_rgba(1, 0.2, 0.2, 0.6)\n",
    "    cr.arc(xc, yc, 0.05, 0, 2 * pi)\n",
    "    cr.fill()\n",
    "    cr.set_line_width(0.03)\n",
    "    cr.arc(xc, yc, radius, angle1, angle1)\n",
    "    cr.line_to(xc, yc)\n",
    "    cr.arc(xc, yc, radius, angle2, angle2)\n",
    "    cr.line_to(xc, yc)\n",
    "    cr.stroke()\n",
    "Out()"
   ]
  }
 ],
 "metadata": {
  "kernelspec": {
   "display_name": "PyCharm (manim)",
   "language": "python",
   "name": "pycharm-7db61f77"
  },
  "language_info": {
   "codemirror_mode": {
    "name": "ipython",
    "version": 3
   },
   "file_extension": ".py",
   "mimetype": "text/x-python",
   "name": "python",
   "nbconvert_exporter": "python",
   "pygments_lexer": "ipython3",
   "version": "3.7.3"
  }
 },
 "nbformat": 4,
 "nbformat_minor": 2
}
